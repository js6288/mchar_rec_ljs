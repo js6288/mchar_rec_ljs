{
 "cells": [
  {
   "metadata": {},
   "cell_type": "markdown",
   "source": "# 官方BaseLine",
   "id": "c92a21667aeeb2f2"
  },
  {
   "cell_type": "code",
   "id": "initial_id",
   "metadata": {
    "collapsed": true,
    "jupyter": {
     "outputs_hidden": true
    },
    "ExecuteTime": {
     "end_time": "2025-03-18T10:49:50.793687Z",
     "start_time": "2025-03-18T10:49:45.344910Z"
    }
   },
   "source": [
    "import os, sys, glob, shutil, json\n",
    "\n",
    "from torchvision.models import ResNet18_Weights\n",
    "\n",
    "os.environ[\"CUDA_VISIBLE_DEVICES\"] = '0'\n",
    "import cv2\n",
    "\n",
    "from PIL import Image\n",
    "import numpy as np\n",
    "\n",
    "from tqdm import tqdm, tqdm_notebook\n",
    "\n",
    "# %pylab inline\n",
    "\n",
    "# 使用matplotlib进行绘图\n",
    "import matplotlib.pyplot as plt\n",
    "%matplotlib inline\n",
    "\n",
    "import torch\n",
    "torch.manual_seed(0)\n",
    "torch.backends.cudnn.deterministic = False\n",
    "torch.backends.cudnn.benchmark = True\n",
    "\n",
    "import torchvision.models as models\n",
    "import torchvision.transforms as transforms\n",
    "import torchvision.datasets as datasets\n",
    "import torch.nn as nn\n",
    "import torch.nn.functional as F\n",
    "import torch.optim as optim\n",
    "from torch.autograd import Variable\n",
    "from torch.utils.data.dataset import Dataset"
   ],
   "outputs": [],
   "execution_count": 1
  },
  {
   "cell_type": "code",
   "id": "7c3435c09d9cbd87",
   "metadata": {
    "ExecuteTime": {
     "end_time": "2025-03-18T11:24:00.188291Z",
     "start_time": "2025-03-18T11:24:00.185219Z"
    }
   },
   "source": "from code.SVHNDataset import SVHNDataset",
   "outputs": [],
   "execution_count": 5
  },
  {
   "cell_type": "code",
   "id": "714af50648611058",
   "metadata": {
    "ExecuteTime": {
     "end_time": "2025-03-18T11:24:01.746722Z",
     "start_time": "2025-03-18T11:24:01.333253Z"
    }
   },
   "source": [
    "train_path = glob.glob('./tcdata/mchar_train/*.png')\n",
    "train_path.sort()\n",
    "train_json = json.load(open('./tcdata/mchar_train.json'))\n",
    "train_label = [train_json[x]['label'] for x in train_json]\n",
    "print(len(train_path), len(train_label))\n",
    "\n",
    "train_loader = torch.utils.data.DataLoader(\n",
    "    SVHNDataset(train_path, train_label,\n",
    "                transforms.Compose([\n",
    "                    transforms.Resize((64, 128)),\n",
    "                    transforms.RandomCrop((60, 120)),\n",
    "                    transforms.ColorJitter(0.3, 0.3, 0.2),\n",
    "                    transforms.RandomRotation(10),\n",
    "                    transforms.ToTensor(),\n",
    "                    transforms.Normalize([0.485, 0.456, 0.406], [0.229, 0.224, 0.225])\n",
    "    ])),\n",
    "    batch_size=128,\n",
    "    shuffle=True,\n",
    "    num_workers=10,\n",
    ")\n",
    "\n",
    "val_path = glob.glob('./tcdata/mchar_val/*.png')\n",
    "val_path.sort()\n",
    "val_json = json.load(open('./tcdata/mchar_val.json'))\n",
    "val_label = [val_json[x]['label'] for x in val_json]\n",
    "print(len(val_path), len(val_label))\n",
    "\n",
    "val_loader = torch.utils.data.DataLoader(\n",
    "    SVHNDataset(val_path, val_label,\n",
    "                transforms.Compose([\n",
    "                    transforms.Resize((60, 120)),\n",
    "                    # transforms.ColorJitter(0.3, 0.3, 0.2),\n",
    "                    # transforms.RandomRotation(5),\n",
    "                    transforms.ToTensor(),\n",
    "                    transforms.Normalize([0.485, 0.456, 0.406], [0.229, 0.224, 0.225])\n",
    "    ])),\n",
    "    batch_size=128,\n",
    "    shuffle=False,\n",
    "    num_workers=10,\n",
    ")"
   ],
   "outputs": [
    {
     "name": "stdout",
     "output_type": "stream",
     "text": [
      "30000 30000\n",
      "10000 10000\n"
     ]
    }
   ],
   "execution_count": 6
  },
  {
   "cell_type": "markdown",
   "id": "689e12339dca5fc1",
   "metadata": {},
   "source": [
    "ResNet18模型进行特征提取"
   ]
  },
  {
   "cell_type": "code",
   "id": "2acb58f7b5cd9071",
   "metadata": {
    "ExecuteTime": {
     "end_time": "2025-03-18T11:31:27.154118Z",
     "start_time": "2025-03-18T11:31:27.147607Z"
    }
   },
   "source": [
    "class SVHN_Model1(nn.Module):\n",
    "    def __init__(self):\n",
    "        super(SVHN_Model1, self).__init__()\n",
    "\n",
    "        model_conv = models.resnet18(weights = ResNet18_Weights.IMAGENET1K_V1)\n",
    "        model_conv.avgpool = nn.AdaptiveAvgPool2d(1)\n",
    "        # 移除预训练ResNet-18模型的最后一个全连接层，并保留其余层作为特征提取器\n",
    "        model_conv = nn.Sequential(*list(model_conv.children())[:-1])\n",
    "        self.cnn = model_conv\n",
    "\n",
    "        self.fc1 = nn.Linear(512, 11)\n",
    "        self.fc2 = nn.Linear(512, 11)\n",
    "        self.fc3 = nn.Linear(512, 11)\n",
    "        self.fc4 = nn.Linear(512, 11)\n",
    "        self.fc5 = nn.Linear(512, 11)\n",
    "\n",
    "    def forward(self, img):\n",
    "        feat = self.cnn(img)\n",
    "        # print(feat.shape)\n",
    "        feat = feat.view(feat.shape[0], -1)\n",
    "        c1 = self.fc1(feat)\n",
    "        c2 = self.fc2(feat)\n",
    "        c3 = self.fc3(feat)\n",
    "        c4 = self.fc4(feat)\n",
    "        c5 = self.fc5(feat)\n",
    "        return c1, c2, c3, c4, c5"
   ],
   "outputs": [],
   "execution_count": 7
  },
  {
   "cell_type": "markdown",
   "id": "c04355ac13565914",
   "metadata": {},
   "source": []
  },
  {
   "cell_type": "markdown",
   "id": "e672b3d1b4729ba9",
   "metadata": {},
   "source": [
    "s"
   ]
  },
  {
   "cell_type": "code",
   "id": "a308ddeae0d49557",
   "metadata": {
    "ExecuteTime": {
     "end_time": "2025-03-18T12:36:41.129029Z",
     "start_time": "2025-03-18T12:36:41.117867Z"
    }
   },
   "source": [
    "def train(train_loader, model, criterion, optimizer, epoch,use_cuda=True):\n",
    "    # 切换模型为训练模式\n",
    "    model.train()\n",
    "    train_loss = []# 用于记录每个 batch 的损失值\n",
    "\n",
    "    for i, (input, target) in enumerate(train_loader):\n",
    "        # 将数据转移到 GPU（如果可用）\n",
    "        if use_cuda:\n",
    "            input = input.cuda()\n",
    "            target = target.cuda().long()\n",
    "\n",
    "        # 前向传播：模型输出 5 个数字的预测结果\n",
    "        c0, c1, c2, c3, c4 = model(input)\n",
    "         # 计算总损失：每个数字预测结果与对应标签的损失之和\n",
    "        loss = criterion(c0, target[:, 0]) + \\\n",
    "                criterion(c1, target[:, 1]) + \\\n",
    "                criterion(c2, target[:, 2]) + \\\n",
    "                criterion(c3, target[:, 3]) + \\\n",
    "                criterion(c4, target[:, 4])\n",
    "\n",
    "        # loss /= 6\n",
    "        # 反向传播与优化\n",
    "        optimizer.zero_grad() # 清空梯度缓存\n",
    "        loss.backward()  # 计算梯度\n",
    "        optimizer.step()  # 更新模型参数\n",
    "\n",
    "        train_loss.append(loss.item())# 记录当前 batch 的损失值\n",
    "    # 返回当前 epoch 的平均训练损失\n",
    "    return np.mean(train_loss)\n",
    "\n",
    "def validate(val_loader, model, criterion,use_cuda=True):\n",
    "    # 切换模型为预测模型 （禁用 BatchNorm 和 Dropout）\n",
    "    model.eval()\n",
    "    val_loss = []\n",
    "\n",
    "    # 不记录模型梯度信息\n",
    "    with torch.no_grad():\n",
    "        for i, (input, target) in enumerate(val_loader):\n",
    "            if use_cuda:\n",
    "                input = input.cuda()\n",
    "                target = target.cuda().long()\n",
    "\n",
    "            c0, c1, c2, c3, c4 = model(input)\n",
    "            loss = criterion(c0, target[:, 0]) + \\\n",
    "                    criterion(c1, target[:, 1]) + \\\n",
    "                    criterion(c2, target[:, 2]) + \\\n",
    "                    criterion(c3, target[:, 3]) + \\\n",
    "                    criterion(c4, target[:, 4])\n",
    "            # loss /= 6\n",
    "            val_loss.append(loss.item())\n",
    "    # 返回验证集的平均损失\n",
    "    return np.mean(val_loss)\n",
    "\n",
    "def predict(test_loader, model, tta=10,use_cuda=True):\n",
    "    model.eval()\n",
    "    test_pred_tta = None\n",
    "\n",
    "    # TTA 次数 # 测试时增强（Test-Time Augmentation）循环\n",
    "    for _ in range(tta):\n",
    "        test_pred = []\n",
    "\n",
    "        with torch.no_grad():# 禁用梯度计算\n",
    "            for i, (input, target) in enumerate(test_loader):\n",
    "                if use_cuda:\n",
    "                    input = input.cuda()\n",
    "                # 前向传播得到 5 个数字的预测结果\n",
    "                c0, c1, c2, c3, c4 = model(input)\n",
    "                # 将预测结果从 GPU 转移到 CPU 并转换为 NumPy 数组\n",
    "                if use_cuda:\n",
    "                    output = np.concatenate([\n",
    "                        c0.data.cpu().numpy(),\n",
    "                        c1.data.cpu().numpy(),\n",
    "                        c2.data.cpu().numpy(),\n",
    "                        c3.data.cpu().numpy(),\n",
    "                        c4.data.cpu().numpy()], axis=1)\n",
    "                else:\n",
    "                    output = np.concatenate([\n",
    "                        c0.data.numpy(),\n",
    "                        c1.data.numpy(),\n",
    "                        c2.data.numpy(),\n",
    "                        c3.data.numpy(),\n",
    "                        c4.data.numpy()], axis=1)\n",
    "\n",
    "                test_pred.append(output)\n",
    "\n",
    "        test_pred = np.vstack(test_pred)\n",
    "        if test_pred_tta is None:\n",
    "            test_pred_tta = test_pred\n",
    "        else:\n",
    "            test_pred_tta += test_pred\n",
    "\n",
    "    return test_pred_tta"
   ],
   "outputs": [],
   "execution_count": 10
  },
  {
   "cell_type": "markdown",
   "id": "21d0a424e159aef",
   "metadata": {},
   "source": [
    "## 训练和验证\n"
   ]
  },
  {
   "cell_type": "code",
   "id": "51166879a03d8ece",
   "metadata": {
    "ExecuteTime": {
     "end_time": "2025-03-18T12:55:25.197153Z",
     "start_time": "2025-03-18T12:36:44.318004Z"
    }
   },
   "source": [
    "model = SVHN_Model1()\n",
    "criterion = nn.CrossEntropyLoss()\n",
    "optimizer = torch.optim.Adam(model.parameters(), 0.001)\n",
    "best_loss = 1000.0\n",
    "\n",
    "# 是否使用GPU\n",
    "use_cuda = True\n",
    "if use_cuda:\n",
    "    model = model.cuda()\n",
    "\n",
    "for epoch in range(10):\n",
    "     # 训练阶段\n",
    "    train_loss = train(train_loader, model, criterion, optimizer, epoch,use_cuda=use_cuda)\n",
    "     # 验证阶段\n",
    "    val_loss = validate(val_loader, model, criterion,use_cuda=use_cuda)\n",
    "\n",
    "    # 获取真实标签（将数字序列转为字符串，如 [1,2,3,4,5] → \"12345\"）\n",
    "    val_label = [''.join(map(str, x)) for x in val_loader.dataset.img_label]\n",
    "    val_predict_label = predict(val_loader, model, 1,use_cuda=use_cuda)\n",
    "    val_predict_label = np.vstack([\n",
    "        val_predict_label[:, :11].argmax(1), # 第1个数字的预测(找出0-11列最大值的索引)\n",
    "        val_predict_label[:, 11:22].argmax(1), # 第2个数字\n",
    "        val_predict_label[:, 22:33].argmax(1), # 第3个数字\n",
    "        val_predict_label[:, 33:44].argmax(1),  # 第4个数字\n",
    "        val_predict_label[:, 44:55].argmax(1),  # 第5个数字\n",
    "    ]).T\n",
    "    val_label_pred = []\n",
    "    for x in val_predict_label:\n",
    "        val_label_pred.append(''.join(map(str, x[x!=10])))\n",
    "\n",
    "    val_char_acc = np.mean(np.array(val_label_pred) == np.array(val_label))\n",
    "\n",
    "    print('Epoch: {0}, Train loss: {1} \\t Val loss: {2}'.format(epoch, train_loss, val_loss))\n",
    "    print('Val Acc', val_char_acc)\n",
    "    # 记录下验证集精度\n",
    "    if val_loss < best_loss:\n",
    "        best_loss = val_loss\n",
    "        print('Find better model in Epoch {0}, saving model.'.format(epoch))\n",
    "        torch.save(model.state_dict(), 'model/model.pt')"
   ],
   "outputs": [
    {
     "name": "stdout",
     "output_type": "stream",
     "text": [
      "Epoch: 0, Train loss: 3.6116945246060688 \t Val loss: 3.4786352128982543\n",
      "Val Acc 0.3509\n",
      "Find better model in Epoch 0, saving model.\n",
      "Epoch: 1, Train loss: 2.2811499365965524 \t Val loss: 3.1218612871170044\n",
      "Val Acc 0.4122\n",
      "Find better model in Epoch 1, saving model.\n",
      "Epoch: 2, Train loss: 1.901327342669169 \t Val loss: 2.7649501342773437\n",
      "Val Acc 0.4704\n",
      "Find better model in Epoch 2, saving model.\n",
      "Epoch: 3, Train loss: 1.696124336242676 \t Val loss: 2.7980010838508607\n",
      "Val Acc 0.4919\n",
      "Epoch: 4, Train loss: 1.5408520084222157 \t Val loss: 2.733173876285553\n",
      "Val Acc 0.5037\n",
      "Find better model in Epoch 4, saving model.\n",
      "Epoch: 5, Train loss: 1.4317081383069357 \t Val loss: 2.6738844499588015\n",
      "Val Acc 0.5063\n",
      "Find better model in Epoch 5, saving model.\n",
      "Epoch: 6, Train loss: 1.3460763751665752 \t Val loss: 2.511698058605194\n",
      "Val Acc 0.547\n",
      "Find better model in Epoch 6, saving model.\n",
      "Epoch: 7, Train loss: 1.2576262759367625 \t Val loss: 2.515715271472931\n",
      "Val Acc 0.5393\n",
      "Epoch: 8, Train loss: 1.1871500625212987 \t Val loss: 2.445100200653076\n",
      "Val Acc 0.5602\n",
      "Find better model in Epoch 8, saving model.\n",
      "Epoch: 9, Train loss: 1.115918833653132 \t Val loss: 2.428434574842453\n",
      "Val Acc 0.5553\n",
      "Find better model in Epoch 9, saving model.\n"
     ]
    }
   ],
   "execution_count": 11
  },
  {
   "metadata": {},
   "cell_type": "markdown",
   "source": "预测并生成提交文件",
   "id": "82d2c98370d1fa64"
  },
  {
   "cell_type": "code",
   "id": "eff93c89dec34ffe",
   "metadata": {
    "ExecuteTime": {
     "end_time": "2025-03-18T13:03:05.718073Z",
     "start_time": "2025-03-18T13:03:05.582932Z"
    }
   },
   "source": [
    "test_path = glob.glob('./tcdata//mchar_test_a/*.png')\n",
    "test_path.sort()\n",
    "# test_json = json.load(open('./tcdata/mchar_test.json'))\n",
    "test_label = [[1]] * len(test_path)\n",
    "print(len(test_path), len(test_label))\n",
    "\n",
    "test_loader = torch.utils.data.DataLoader(\n",
    "    SVHNDataset(test_path, test_label,\n",
    "                transforms.Compose([\n",
    "                    transforms.Resize((70, 140)),\n",
    "                    # transforms.RandomCrop((60, 120)),\n",
    "                    # transforms.ColorJitter(0.3, 0.3, 0.2),\n",
    "                    # transforms.RandomRotation(5),\n",
    "                    transforms.ToTensor(),\n",
    "                    transforms.Normalize([0.485, 0.456, 0.406], [0.229, 0.224, 0.225])\n",
    "    ])),\n",
    "    batch_size=128,\n",
    "    shuffle=False,\n",
    "    num_workers=10,\n",
    ")\n",
    "\n"
   ],
   "outputs": [
    {
     "name": "stdout",
     "output_type": "stream",
     "text": [
      "40000 40000\n"
     ]
    }
   ],
   "execution_count": 12
  },
  {
   "metadata": {
    "ExecuteTime": {
     "end_time": "2025-03-18T13:09:40.494424Z",
     "start_time": "2025-03-18T13:08:56.502950Z"
    }
   },
   "cell_type": "code",
   "source": [
    "# 加载保存的最优模型\n",
    "model.load_state_dict(torch.load('./model/model.pt'))\n",
    "\n",
    "test_predict_label = predict(test_loader, model, 1)\n",
    "print(test_predict_label.shape)\n",
    "\n",
    "test_label = [''.join(map(str, x)) for x in test_loader.dataset.img_label]\n",
    "test_predict_label = np.vstack([\n",
    "    test_predict_label[:, :11].argmax(1),\n",
    "    test_predict_label[:, 11:22].argmax(1),\n",
    "    test_predict_label[:, 22:33].argmax(1),\n",
    "    test_predict_label[:, 33:44].argmax(1),\n",
    "    test_predict_label[:, 44:55].argmax(1),\n",
    "]).T\n",
    "\n",
    "test_label_pred = []\n",
    "for x in test_predict_label:\n",
    "    test_label_pred.append(''.join(map(str, x[x!=10])))\n",
    "\n",
    "import pandas as pd\n",
    "df_submit = pd.read_csv('./tcdata/mchar_sample_submit_A.csv')\n",
    "df_submit['file_code'] = test_label_pred\n",
    "df_submit.to_csv('./prediction_result/submit_baseline.csv', index=None)"
   ],
   "id": "33f1f1fc637d4762",
   "outputs": [
    {
     "name": "stdout",
     "output_type": "stream",
     "text": [
      "(40000, 55)\n"
     ]
    }
   ],
   "execution_count": 15
  },
  {
   "metadata": {},
   "cell_type": "code",
   "outputs": [],
   "execution_count": null,
   "source": "",
   "id": "4d97ff110463a5b7"
  }
 ],
 "metadata": {
  "kernelspec": {
   "display_name": "Python 3 (ipykernel)",
   "language": "python",
   "name": "python3"
  },
  "language_info": {
   "codemirror_mode": {
    "name": "ipython",
    "version": 3
   },
   "file_extension": ".py",
   "mimetype": "text/x-python",
   "name": "python",
   "nbconvert_exporter": "python",
   "pygments_lexer": "ipython3",
   "version": "3.11.11"
  }
 },
 "nbformat": 4,
 "nbformat_minor": 5
}
